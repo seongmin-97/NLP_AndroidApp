{
 "cells": [
  {
   "cell_type": "code",
   "execution_count": 1,
   "metadata": {},
   "outputs": [],
   "source": [
    "import numpy as np\n",
    "import pandas as pd\n",
    "from gensim.models.doc2vec import Doc2Vec, TaggedDocument\n",
    "from konlpy.tag import Okt"
   ]
  },
  {
   "cell_type": "code",
   "execution_count": 2,
   "metadata": {},
   "outputs": [],
   "source": [
    "DATA_IN_PATH = '../data/preprocess/'\n",
    "# 데이터 불러오기 !\n",
    "KorQuAd = pd.read_csv(DATA_IN_PATH + 'KorQuAd_preprocess_Okt.csv', encoding='UTF8')\n",
    "naverReview = pd.read_csv(DATA_IN_PATH + 'naverReview_preprocess_Okt.csv', encoding='UTF8')\n",
    "ultraDiary = pd.read_csv(DATA_IN_PATH + 'ultraDiary_preprocess_Okt.csv', encoding='UTF8')"
   ]
  },
  {
   "cell_type": "code",
   "execution_count": 3,
   "metadata": {},
   "outputs": [
    {
     "name": "stdout",
     "output_type": "stream",
     "text": [
      "(234941, 1)\n"
     ]
    },
    {
     "data": {
      "text/html": [
       "<div>\n",
       "<style scoped>\n",
       "    .dataframe tbody tr th:only-of-type {\n",
       "        vertical-align: middle;\n",
       "    }\n",
       "\n",
       "    .dataframe tbody tr th {\n",
       "        vertical-align: top;\n",
       "    }\n",
       "\n",
       "    .dataframe thead th {\n",
       "        text-align: right;\n",
       "    }\n",
       "</style>\n",
       "<table border=\"1\" class=\"dataframe\">\n",
       "  <thead>\n",
       "    <tr style=\"text-align: right;\">\n",
       "      <th></th>\n",
       "      <th>context</th>\n",
       "    </tr>\n",
       "  </thead>\n",
       "  <tbody>\n",
       "    <tr>\n",
       "      <th>0</th>\n",
       "      <td>년 바그너 괴테 파우스트 을 처음 읽다 그 내용 에 마음 끌리다 이르다 소재 로 하...</td>\n",
       "    </tr>\n",
       "    <tr>\n",
       "      <th>1</th>\n",
       "      <td>한편 년 부터 바그너 와 알 고 지내다 리스트 잊혀지다 있다 악장 을 부활 시키다 ...</td>\n",
       "    </tr>\n",
       "    <tr>\n",
       "      <th>2</th>\n",
       "      <td>작품 라단조 아주 신중하다 박자 부드럽다 서주 로 서주 로 시작 되다 여기 에는 주...</td>\n",
       "    </tr>\n",
       "    <tr>\n",
       "      <th>3</th>\n",
       "      <td>커닐링구스커닐 링거 스 쿤닐링구스 영어 늘다 입술 혀 입 모든 구강 기관 으로 여성...</td>\n",
       "    </tr>\n",
       "    <tr>\n",
       "      <th>4</th>\n",
       "      <td>일반 적 인 통계 에 따르다 여성 가다 오르가슴 을 얻다 위해 직접 적 인 음핵 자...</td>\n",
       "    </tr>\n",
       "  </tbody>\n",
       "</table>\n",
       "</div>"
      ],
      "text/plain": [
       "                                             context\n",
       "0  년 바그너 괴테 파우스트 을 처음 읽다 그 내용 에 마음 끌리다 이르다 소재 로 하...\n",
       "1  한편 년 부터 바그너 와 알 고 지내다 리스트 잊혀지다 있다 악장 을 부활 시키다 ...\n",
       "2  작품 라단조 아주 신중하다 박자 부드럽다 서주 로 서주 로 시작 되다 여기 에는 주...\n",
       "3  커닐링구스커닐 링거 스 쿤닐링구스 영어 늘다 입술 혀 입 모든 구강 기관 으로 여성...\n",
       "4  일반 적 인 통계 에 따르다 여성 가다 오르가슴 을 얻다 위해 직접 적 인 음핵 자..."
      ]
     },
     "execution_count": 3,
     "metadata": {},
     "output_type": "execute_result"
    }
   ],
   "source": [
    "#데이터를 하나의 데이터 프레임으로 합치자!\n",
    "data = KorQuAd.append(naverReview)\n",
    "data = data.append(ultraDiary)\n",
    "print(data.shape) # 출력 결과 23만 5000개에 가가운 데이터 !\n",
    "data.head()"
   ]
  },
  {
   "cell_type": "code",
   "execution_count": 4,
   "metadata": {},
   "outputs": [],
   "source": [
    "corpus = [str(context) for context in data['context']] # 데이터들을 리스트 형태로 저장"
   ]
  },
  {
   "cell_type": "code",
   "execution_count": 5,
   "metadata": {},
   "outputs": [],
   "source": [
    "#Doc2Vec 모델에 입력할 수 있는 형태로 바꿔주자.\n",
    "tagged_data = [TaggedDocument(words=_d.split(), tags=[str(i)]) for i, _d in enumerate(corpus)]"
   ]
  },
  {
   "cell_type": "code",
   "execution_count": 6,
   "metadata": {},
   "outputs": [],
   "source": [
    "#Doc2Vec 훈련\n",
    "model = Doc2Vec(min_count=10, epochs=100, dm=1, vector_size=300, verbose=True)\n",
    "model.build_vocab(tagged_data)\n",
    "model.save('./embedding_data/Doc2Vec_embedding.model')"
   ]
  },
  {
   "cell_type": "code",
   "execution_count": 8,
   "metadata": {},
   "outputs": [
    {
     "name": "stderr",
     "output_type": "stream",
     "text": [
      "C:\\Users\\korea_1\\anaconda3\\lib\\site-packages\\ipykernel_launcher.py:1: DeprecationWarning: Call to deprecated `most_similar` (Method will be removed in 4.0.0, use self.wv.most_similar() instead).\n",
      "  \"\"\"Entry point for launching an IPython kernel.\n"
     ]
    },
    {
     "data": {
      "text/plain": [
       "[('불확실하다', 0.2420394867658615),\n",
       " ('박사모', 0.22847668826580048),\n",
       " ('발기', 0.21546494960784912),\n",
       " ('지우', 0.21099095046520233),\n",
       " ('디카', 0.20042359828948975),\n",
       " ('탄두', 0.19743339717388153),\n",
       " ('브루', 0.19619417190551758),\n",
       " ('특출나다', 0.19604340195655823),\n",
       " ('산뜻하다', 0.19495171308517456),\n",
       " ('로', 0.19438216090202332)]"
      ]
     },
     "execution_count": 8,
     "metadata": {},
     "output_type": "execute_result"
    }
   ],
   "source": [
    "model.most_similar(\"좋다\")"
   ]
  },
  {
   "cell_type": "code",
   "execution_count": 9,
   "metadata": {},
   "outputs": [
    {
     "name": "stderr",
     "output_type": "stream",
     "text": [
      "C:\\Users\\korea_1\\anaconda3\\lib\\site-packages\\ipykernel_launcher.py:1: DeprecationWarning: Call to deprecated `most_similar` (Method will be removed in 4.0.0, use self.wv.most_similar() instead).\n",
      "  \"\"\"Entry point for launching an IPython kernel.\n"
     ]
    },
    {
     "data": {
      "text/plain": [
       "[('바라다그리고', 0.239454448223114),\n",
       " ('다음', 0.22305828332901),\n",
       " ('멜로디', 0.21803615987300873),\n",
       " ('회동', 0.2107786387205124),\n",
       " ('재회', 0.20615436136722565),\n",
       " ('도로시', 0.20325922966003418),\n",
       " ('아비뇽', 0.2010224461555481),\n",
       " ('벼르', 0.1973576545715332),\n",
       " ('없다제', 0.1955118179321289),\n",
       " ('어떻', 0.19099198281764984)]"
      ]
     },
     "execution_count": 9,
     "metadata": {},
     "output_type": "execute_result"
    }
   ],
   "source": [
    "model.most_similar(\"희망\")"
   ]
  },
  {
   "cell_type": "code",
   "execution_count": 10,
   "metadata": {},
   "outputs": [
    {
     "name": "stderr",
     "output_type": "stream",
     "text": [
      "C:\\Users\\korea_1\\anaconda3\\lib\\site-packages\\ipykernel_launcher.py:1: DeprecationWarning: Call to deprecated `most_similar` (Method will be removed in 4.0.0, use self.wv.most_similar() instead).\n",
      "  \"\"\"Entry point for launching an IPython kernel.\n"
     ]
    },
    {
     "data": {
      "text/plain": [
       "[('도르다', 0.23039484024047852),\n",
       " ('싫다', 0.22469154000282288),\n",
       " ('썸머', 0.21900063753128052),\n",
       " ('찬반', 0.20865845680236816),\n",
       " ('재야', 0.20670649409294128),\n",
       " ('포켓', 0.20556552708148956),\n",
       " ('승리자', 0.20345419645309448),\n",
       " ('미역', 0.20260387659072876),\n",
       " ('년년', 0.1991792619228363),\n",
       " ('사형수', 0.1980721354484558)]"
      ]
     },
     "execution_count": 10,
     "metadata": {},
     "output_type": "execute_result"
    }
   ],
   "source": [
    "model.most_similar(\"별로\")"
   ]
  },
  {
   "cell_type": "code",
   "execution_count": 11,
   "metadata": {},
   "outputs": [
    {
     "name": "stderr",
     "output_type": "stream",
     "text": [
      "C:\\Users\\korea_1\\anaconda3\\lib\\site-packages\\ipykernel_launcher.py:1: DeprecationWarning: Call to deprecated `most_similar` (Method will be removed in 4.0.0, use self.wv.most_similar() instead).\n",
      "  \"\"\"Entry point for launching an IPython kernel.\n"
     ]
    },
    {
     "data": {
      "text/plain": [
       "[('카마', 0.22577834129333496),\n",
       " ('빗자루', 0.2245154082775116),\n",
       " ('마이크로소프트', 0.21330255270004272),\n",
       " ('보통', 0.21252575516700745),\n",
       " ('종종', 0.2124549150466919),\n",
       " ('화보', 0.21062500774860382),\n",
       " ('지자기', 0.20960643887519836),\n",
       " ('가야', 0.2081969976425171),\n",
       " ('씨방', 0.2047841101884842),\n",
       " ('프리즈', 0.20334577560424805)]"
      ]
     },
     "execution_count": 11,
     "metadata": {},
     "output_type": "execute_result"
    }
   ],
   "source": [
    "model.most_similar('시험')"
   ]
  },
  {
   "cell_type": "code",
   "execution_count": 4,
   "metadata": {},
   "outputs": [],
   "source": [
    "doc2vec = Doc2Vec.load('./embedding_data/Doc2Vec_embedding.model') # 저장한 모델 불러와서 쓰는 법"
   ]
  },
  {
   "cell_type": "code",
   "execution_count": 5,
   "metadata": {},
   "outputs": [
    {
     "name": "stderr",
     "output_type": "stream",
     "text": [
      "C:\\Users\\korea_1\\anaconda3\\lib\\site-packages\\ipykernel_launcher.py:1: DeprecationWarning: Call to deprecated `most_similar` (Method will be removed in 4.0.0, use self.wv.most_similar() instead).\n",
      "  \"\"\"Entry point for launching an IPython kernel.\n"
     ]
    },
    {
     "data": {
      "text/plain": [
       "[('카마', 0.22577834129333496),\n",
       " ('빗자루', 0.2245154082775116),\n",
       " ('마이크로소프트', 0.21330255270004272),\n",
       " ('보통', 0.21252575516700745),\n",
       " ('종종', 0.2124549150466919),\n",
       " ('화보', 0.21062500774860382),\n",
       " ('지자기', 0.20960643887519836),\n",
       " ('가야', 0.2081969976425171),\n",
       " ('씨방', 0.2047841101884842),\n",
       " ('프리즈', 0.20334577560424805)]"
      ]
     },
     "execution_count": 5,
     "metadata": {},
     "output_type": "execute_result"
    }
   ],
   "source": [
    "doc2vec.most_similar('시험')"
   ]
  },
  {
   "cell_type": "code",
   "execution_count": 6,
   "metadata": {},
   "outputs": [
    {
     "name": "stderr",
     "output_type": "stream",
     "text": [
      "C:\\Users\\korea_1\\anaconda3\\lib\\site-packages\\ipykernel_launcher.py:1: DeprecationWarning: Call to deprecated `most_similar` (Method will be removed in 4.0.0, use self.wv.most_similar() instead).\n",
      "  \"\"\"Entry point for launching an IPython kernel.\n"
     ]
    },
    {
     "data": {
      "text/plain": [
       "[('얼핏', 0.21832311153411865),\n",
       " ('단합', 0.209183931350708),\n",
       " ('비둘기', 0.20889733731746674),\n",
       " ('모태', 0.2043834626674652),\n",
       " ('은하수', 0.20206236839294434),\n",
       " ('고대', 0.19824287295341492),\n",
       " ('컨퍼런스', 0.1973324418067932),\n",
       " ('않다이제', 0.1958603709936142),\n",
       " ('타이거스', 0.19534583389759064),\n",
       " ('초집', 0.19235646724700928)]"
      ]
     },
     "execution_count": 6,
     "metadata": {},
     "output_type": "execute_result"
    }
   ],
   "source": [
    "doc2vec.most_similar('관심')"
   ]
  },
  {
   "cell_type": "code",
   "execution_count": 7,
   "metadata": {},
   "outputs": [
    {
     "name": "stderr",
     "output_type": "stream",
     "text": [
      "C:\\Users\\korea_1\\anaconda3\\lib\\site-packages\\ipykernel_launcher.py:1: DeprecationWarning: Call to deprecated `most_similar` (Method will be removed in 4.0.0, use self.wv.most_similar() instead).\n",
      "  \"\"\"Entry point for launching an IPython kernel.\n"
     ]
    },
    {
     "data": {
      "text/plain": [
       "[('디자이너', 0.2175116240978241),\n",
       " ('메이트', 0.20604217052459717),\n",
       " ('꺾다', 0.20599497854709625),\n",
       " ('악', 0.1980266571044922),\n",
       " ('심은진', 0.19774872064590454),\n",
       " ('조화', 0.19739708304405212),\n",
       " ('은하', 0.1964067667722702),\n",
       " ('치사하다', 0.19516679644584656),\n",
       " ('무식하다', 0.19504223763942719),\n",
       " ('골고루', 0.19411073625087738)]"
      ]
     },
     "execution_count": 7,
     "metadata": {},
     "output_type": "execute_result"
    }
   ],
   "source": [
    "doc2vec.most_similar('엄마')"
   ]
  },
  {
   "cell_type": "code",
   "execution_count": 8,
   "metadata": {},
   "outputs": [
    {
     "name": "stderr",
     "output_type": "stream",
     "text": [
      "C:\\Users\\korea_1\\anaconda3\\lib\\site-packages\\ipykernel_launcher.py:1: DeprecationWarning: Call to deprecated `most_similar` (Method will be removed in 4.0.0, use self.wv.most_similar() instead).\n",
      "  \"\"\"Entry point for launching an IPython kernel.\n"
     ]
    },
    {
     "data": {
      "text/plain": [
       "[('헌', 0.22110989689826965),\n",
       " ('동맥경화', 0.217734694480896),\n",
       " ('조언', 0.21425947546958923),\n",
       " ('도체', 0.2124180644750595),\n",
       " ('초임', 0.21215462684631348),\n",
       " ('만점', 0.21164366602897644),\n",
       " ('인터페이스', 0.20956051349639893),\n",
       " ('원만하다', 0.207318514585495),\n",
       " ('구진', 0.2025631219148636),\n",
       " ('동점골', 0.20019851624965668)]"
      ]
     },
     "execution_count": 8,
     "metadata": {},
     "output_type": "execute_result"
    }
   ],
   "source": [
    "doc2vec.most_similar('아빠')"
   ]
  },
  {
   "cell_type": "code",
   "execution_count": 9,
   "metadata": {},
   "outputs": [
    {
     "name": "stderr",
     "output_type": "stream",
     "text": [
      "C:\\Users\\korea_1\\anaconda3\\lib\\site-packages\\ipykernel_launcher.py:1: DeprecationWarning: Call to deprecated `most_similar` (Method will be removed in 4.0.0, use self.wv.most_similar() instead).\n",
      "  \"\"\"Entry point for launching an IPython kernel.\n"
     ]
    },
    {
     "data": {
      "text/plain": [
       "[('우박', 0.2441304624080658),\n",
       " ('이다사실', 0.2104630023241043),\n",
       " ('이류', 0.2085782289505005),\n",
       " ('팔고', 0.20261138677597046),\n",
       " ('패권', 0.2018493264913559),\n",
       " ('튜브', 0.1979450285434723),\n",
       " ('동상', 0.1965635120868683),\n",
       " ('개밥', 0.19515354931354523),\n",
       " ('지심', 0.1951085329055786),\n",
       " ('개전', 0.19380395114421844)]"
      ]
     },
     "execution_count": 9,
     "metadata": {},
     "output_type": "execute_result"
    }
   ],
   "source": [
    "doc2vec.most_similar('실망')"
   ]
  },
  {
   "cell_type": "code",
   "execution_count": null,
   "metadata": {},
   "outputs": [],
   "source": []
  }
 ],
 "metadata": {
  "kernelspec": {
   "display_name": "Python 3",
   "language": "python",
   "name": "python3"
  },
  "language_info": {
   "codemirror_mode": {
    "name": "ipython",
    "version": 3
   },
   "file_extension": ".py",
   "mimetype": "text/x-python",
   "name": "python",
   "nbconvert_exporter": "python",
   "pygments_lexer": "ipython3",
   "version": "3.7.7"
  }
 },
 "nbformat": 4,
 "nbformat_minor": 4
}
