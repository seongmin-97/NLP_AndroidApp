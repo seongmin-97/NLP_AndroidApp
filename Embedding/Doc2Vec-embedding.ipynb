{
 "cells": [
  {
   "cell_type": "code",
   "execution_count": 1,
   "metadata": {},
   "outputs": [],
   "source": [
    "import numpy as np\n",
    "import pandas as pd\n",
    "from gensim.models.doc2vec import Doc2Vec, TaggedDocument\n",
    "from konlpy.tag import Okt"
   ]
  },
  {
   "cell_type": "code",
   "execution_count": 2,
   "metadata": {},
   "outputs": [],
   "source": [
    "DATA_IN_PATH = '../data/preprocess/'\n",
    "# 데이터 불러오기 !\n",
    "naverReview = pd.read_csv(DATA_IN_PATH + 'naverReview_preprocess_Okt.csv', encoding='UTF8')"
   ]
  },
  {
   "cell_type": "code",
   "execution_count": 4,
   "metadata": {},
   "outputs": [
    {
     "data": {
      "text/html": [
       "<div>\n",
       "<style scoped>\n",
       "    .dataframe tbody tr th:only-of-type {\n",
       "        vertical-align: middle;\n",
       "    }\n",
       "\n",
       "    .dataframe tbody tr th {\n",
       "        vertical-align: top;\n",
       "    }\n",
       "\n",
       "    .dataframe thead th {\n",
       "        text-align: right;\n",
       "    }\n",
       "</style>\n",
       "<table border=\"1\" class=\"dataframe\">\n",
       "  <thead>\n",
       "    <tr style=\"text-align: right;\">\n",
       "      <th></th>\n",
       "      <th>context</th>\n",
       "    </tr>\n",
       "  </thead>\n",
       "  <tbody>\n",
       "    <tr>\n",
       "      <th>0</th>\n",
       "      <td>더빙 진짜 짜증나다 목소리</td>\n",
       "    </tr>\n",
       "    <tr>\n",
       "      <th>1</th>\n",
       "      <td>흠 포스터 보고 초딩 영화 줄 오버 연기 조차 가볍다 않다</td>\n",
       "    </tr>\n",
       "    <tr>\n",
       "      <th>2</th>\n",
       "      <td>너 무재 밓었 다그 래서 보다 추천 다</td>\n",
       "    </tr>\n",
       "    <tr>\n",
       "      <th>3</th>\n",
       "      <td>교도소 이야기 구먼 솔직하다 재미 없다 평점 조정</td>\n",
       "    </tr>\n",
       "    <tr>\n",
       "      <th>4</th>\n",
       "      <td>사이 몬페 그 익살스럽다 연기 돋보이다 영화 스파이더맨 에서 늙다 보이다 하다 커스...</td>\n",
       "    </tr>\n",
       "  </tbody>\n",
       "</table>\n",
       "</div>"
      ],
      "text/plain": [
       "                                             context\n",
       "0                                     더빙 진짜 짜증나다 목소리\n",
       "1                   흠 포스터 보고 초딩 영화 줄 오버 연기 조차 가볍다 않다\n",
       "2                              너 무재 밓었 다그 래서 보다 추천 다\n",
       "3                        교도소 이야기 구먼 솔직하다 재미 없다 평점 조정\n",
       "4  사이 몬페 그 익살스럽다 연기 돋보이다 영화 스파이더맨 에서 늙다 보이다 하다 커스..."
      ]
     },
     "execution_count": 4,
     "metadata": {},
     "output_type": "execute_result"
    }
   ],
   "source": [
    "#데이터를 하나의 데이터 프레임으로 합치자!\n",
    "data = naverReview\n",
    "data.head()"
   ]
  },
  {
   "cell_type": "code",
   "execution_count": 5,
   "metadata": {},
   "outputs": [],
   "source": [
    "corpus = [str(context) for context in data['context']] # 데이터들을 리스트 형태로 저장"
   ]
  },
  {
   "cell_type": "code",
   "execution_count": 6,
   "metadata": {},
   "outputs": [],
   "source": [
    "#Doc2Vec 모델에 입력할 수 있는 형태로 바꿔주자.\n",
    "tagged_data = [TaggedDocument(words=_d.split(), tags=[str(i)]) for i, _d in enumerate(corpus)]"
   ]
  },
  {
   "cell_type": "code",
   "execution_count": 7,
   "metadata": {},
   "outputs": [],
   "source": [
    "#Doc2Vec 훈련\n",
    "model = Doc2Vec(min_count=10, epochs=100, dm=1, vector_size=300, verbose=True)\n",
    "model.build_vocab(tagged_data)\n",
    "model.save('./embedding_data/Doc2Vec_embedding.model')"
   ]
  },
  {
   "cell_type": "code",
   "execution_count": 8,
   "metadata": {},
   "outputs": [
    {
     "name": "stderr",
     "output_type": "stream",
     "text": [
      "C:\\Users\\korea_1\\anaconda3\\lib\\site-packages\\ipykernel_launcher.py:1: DeprecationWarning: Call to deprecated `most_similar` (Method will be removed in 4.0.0, use self.wv.most_similar() instead).\n",
      "  \"\"\"Entry point for launching an IPython kernel.\n"
     ]
    },
    {
     "data": {
      "text/plain": [
       "[('과극', 0.209401473402977),\n",
       " ('적어도', 0.20781353116035461),\n",
       " ('작작', 0.1999148577451706),\n",
       " ('그이', 0.19633102416992188),\n",
       " ('혹시', 0.19361339509487152),\n",
       " ('낳다', 0.1876271367073059),\n",
       " ('죽', 0.1768600195646286),\n",
       " ('로는', 0.17381179332733154),\n",
       " ('시선', 0.17350240051746368),\n",
       " ('설득', 0.17127135396003723)]"
      ]
     },
     "execution_count": 8,
     "metadata": {},
     "output_type": "execute_result"
    }
   ],
   "source": [
    "model.most_similar(\"좋다\")"
   ]
  },
  {
   "cell_type": "code",
   "execution_count": 9,
   "metadata": {},
   "outputs": [
    {
     "name": "stderr",
     "output_type": "stream",
     "text": [
      "C:\\Users\\korea_1\\anaconda3\\lib\\site-packages\\ipykernel_launcher.py:1: DeprecationWarning: Call to deprecated `most_similar` (Method will be removed in 4.0.0, use self.wv.most_similar() instead).\n",
      "  \"\"\"Entry point for launching an IPython kernel.\n"
     ]
    },
    {
     "data": {
      "text/plain": [
       "[('권력', 0.22581373155117035),\n",
       " ('사투리', 0.20243209600448608),\n",
       " ('아메리카', 0.19372576475143433),\n",
       " ('부탁', 0.19229921698570251),\n",
       " ('클로이', 0.1887815296649933),\n",
       " ('빠르다', 0.18877571821212769),\n",
       " ('실물', 0.18764403462409973),\n",
       " ('그리다', 0.1821795105934143),\n",
       " ('능청', 0.17862027883529663),\n",
       " ('최다니엘', 0.17858952283859253)]"
      ]
     },
     "execution_count": 9,
     "metadata": {},
     "output_type": "execute_result"
    }
   ],
   "source": [
    "model.most_similar(\"희망\")"
   ]
  },
  {
   "cell_type": "code",
   "execution_count": 10,
   "metadata": {},
   "outputs": [
    {
     "name": "stderr",
     "output_type": "stream",
     "text": [
      "C:\\Users\\korea_1\\anaconda3\\lib\\site-packages\\ipykernel_launcher.py:1: DeprecationWarning: Call to deprecated `most_similar` (Method will be removed in 4.0.0, use self.wv.most_similar() instead).\n",
      "  \"\"\"Entry point for launching an IPython kernel.\n"
     ]
    },
    {
     "data": {
      "text/plain": [
       "[('남여', 0.20638969540596008),\n",
       " ('괜히', 0.20018619298934937),\n",
       " ('리플', 0.1949218064546585),\n",
       " ('모세', 0.19487807154655457),\n",
       " ('전문', 0.18990375101566315),\n",
       " ('지리하다', 0.18954803049564362),\n",
       " ('새', 0.1854691207408905),\n",
       " ('부족', 0.18277984857559204),\n",
       " ('섬기다', 0.18223388493061066),\n",
       " ('정체', 0.18027980625629425)]"
      ]
     },
     "execution_count": 10,
     "metadata": {},
     "output_type": "execute_result"
    }
   ],
   "source": [
    "model.most_similar(\"별로\")"
   ]
  },
  {
   "cell_type": "code",
   "execution_count": 11,
   "metadata": {},
   "outputs": [
    {
     "name": "stderr",
     "output_type": "stream",
     "text": [
      "C:\\Users\\korea_1\\anaconda3\\lib\\site-packages\\ipykernel_launcher.py:1: DeprecationWarning: Call to deprecated `most_similar` (Method will be removed in 4.0.0, use self.wv.most_similar() instead).\n",
      "  \"\"\"Entry point for launching an IPython kernel.\n"
     ]
    },
    {
     "data": {
      "text/plain": [
       "[('배고프다', 0.20664407312870026),\n",
       " ('구미', 0.2008199542760849),\n",
       " ('제작', 0.1996297836303711),\n",
       " ('화학', 0.19288671016693115),\n",
       " ('시인', 0.19050851464271545),\n",
       " ('낭', 0.18953508138656616),\n",
       " ('품격', 0.1885496973991394),\n",
       " ('지연', 0.18350547552108765),\n",
       " ('간지나다', 0.18221545219421387),\n",
       " ('잠', 0.17770013213157654)]"
      ]
     },
     "execution_count": 11,
     "metadata": {},
     "output_type": "execute_result"
    }
   ],
   "source": [
    "model.most_similar('추천')"
   ]
  },
  {
   "cell_type": "code",
   "execution_count": 9,
   "metadata": {},
   "outputs": [],
   "source": [
    "doc2vec = Doc2Vec.load('./embedding_data/Doc2Vec_embedding.model') # 저장한 모델 불러와서 쓰는 법"
   ]
  },
  {
   "cell_type": "code",
   "execution_count": 12,
   "metadata": {},
   "outputs": [
    {
     "name": "stderr",
     "output_type": "stream",
     "text": [
      "C:\\Users\\korea_1\\anaconda3\\lib\\site-packages\\ipykernel_launcher.py:1: DeprecationWarning: Call to deprecated `most_similar` (Method will be removed in 4.0.0, use self.wv.most_similar() instead).\n",
      "  \"\"\"Entry point for launching an IPython kernel.\n"
     ]
    },
    {
     "data": {
      "text/plain": [
       "[('상류', 0.21393270790576935),\n",
       " ('김영애', 0.20458298921585083),\n",
       " ('개원', 0.2032485157251358),\n",
       " ('안일하다', 0.20080627501010895),\n",
       " ('좃', 0.1976148933172226),\n",
       " ('고품격', 0.1970689445734024),\n",
       " ('피고', 0.19606046378612518),\n",
       " ('야금야금', 0.19594690203666687),\n",
       " ('사가다', 0.19382545351982117),\n",
       " ('난', 0.1934705525636673)]"
      ]
     },
     "execution_count": 12,
     "metadata": {},
     "output_type": "execute_result"
    }
   ],
   "source": [
    "doc2vec.most_similar('시험')"
   ]
  },
  {
   "cell_type": "code",
   "execution_count": 13,
   "metadata": {},
   "outputs": [
    {
     "name": "stderr",
     "output_type": "stream",
     "text": [
      "C:\\Users\\korea_1\\anaconda3\\lib\\site-packages\\ipykernel_launcher.py:1: DeprecationWarning: Call to deprecated `most_similar` (Method will be removed in 4.0.0, use self.wv.most_similar() instead).\n",
      "  \"\"\"Entry point for launching an IPython kernel.\n"
     ]
    },
    {
     "data": {
      "text/plain": [
       "[('짱짱걸', 0.26956087350845337),\n",
       " ('모노', 0.2409968376159668),\n",
       " ('폐하', 0.22811615467071533),\n",
       " ('민아', 0.21419033408164978),\n",
       " ('제청', 0.21309049427509308),\n",
       " ('달라', 0.19567999243736267),\n",
       " ('피라냐', 0.19151483476161957),\n",
       " ('피셔', 0.19003278017044067),\n",
       " ('잔혹하다', 0.1868869811296463),\n",
       " ('개강', 0.18650281429290771)]"
      ]
     },
     "execution_count": 13,
     "metadata": {},
     "output_type": "execute_result"
    }
   ],
   "source": [
    "doc2vec.most_similar('관심')"
   ]
  },
  {
   "cell_type": "code",
   "execution_count": 7,
   "metadata": {},
   "outputs": [
    {
     "name": "stderr",
     "output_type": "stream",
     "text": [
      "C:\\Users\\korea_1\\anaconda3\\lib\\site-packages\\ipykernel_launcher.py:1: DeprecationWarning: Call to deprecated `most_similar` (Method will be removed in 4.0.0, use self.wv.most_similar() instead).\n",
      "  \"\"\"Entry point for launching an IPython kernel.\n"
     ]
    },
    {
     "data": {
      "text/plain": [
       "[('디자이너', 0.2175116240978241),\n",
       " ('메이트', 0.20604217052459717),\n",
       " ('꺾다', 0.20599497854709625),\n",
       " ('악', 0.1980266571044922),\n",
       " ('심은진', 0.19774872064590454),\n",
       " ('조화', 0.19739708304405212),\n",
       " ('은하', 0.1964067667722702),\n",
       " ('치사하다', 0.19516679644584656),\n",
       " ('무식하다', 0.19504223763942719),\n",
       " ('골고루', 0.19411073625087738)]"
      ]
     },
     "execution_count": 7,
     "metadata": {},
     "output_type": "execute_result"
    }
   ],
   "source": [
    "doc2vec.most_similar('엄마')"
   ]
  },
  {
   "cell_type": "code",
   "execution_count": 8,
   "metadata": {},
   "outputs": [
    {
     "name": "stderr",
     "output_type": "stream",
     "text": [
      "C:\\Users\\korea_1\\anaconda3\\lib\\site-packages\\ipykernel_launcher.py:1: DeprecationWarning: Call to deprecated `most_similar` (Method will be removed in 4.0.0, use self.wv.most_similar() instead).\n",
      "  \"\"\"Entry point for launching an IPython kernel.\n"
     ]
    },
    {
     "data": {
      "text/plain": [
       "[('헌', 0.22110989689826965),\n",
       " ('동맥경화', 0.217734694480896),\n",
       " ('조언', 0.21425947546958923),\n",
       " ('도체', 0.2124180644750595),\n",
       " ('초임', 0.21215462684631348),\n",
       " ('만점', 0.21164366602897644),\n",
       " ('인터페이스', 0.20956051349639893),\n",
       " ('원만하다', 0.207318514585495),\n",
       " ('구진', 0.2025631219148636),\n",
       " ('동점골', 0.20019851624965668)]"
      ]
     },
     "execution_count": 8,
     "metadata": {},
     "output_type": "execute_result"
    }
   ],
   "source": [
    "doc2vec.most_similar('아빠')"
   ]
  },
  {
   "cell_type": "code",
   "execution_count": 9,
   "metadata": {},
   "outputs": [
    {
     "name": "stderr",
     "output_type": "stream",
     "text": [
      "C:\\Users\\korea_1\\anaconda3\\lib\\site-packages\\ipykernel_launcher.py:1: DeprecationWarning: Call to deprecated `most_similar` (Method will be removed in 4.0.0, use self.wv.most_similar() instead).\n",
      "  \"\"\"Entry point for launching an IPython kernel.\n"
     ]
    },
    {
     "data": {
      "text/plain": [
       "[('우박', 0.2441304624080658),\n",
       " ('이다사실', 0.2104630023241043),\n",
       " ('이류', 0.2085782289505005),\n",
       " ('팔고', 0.20261138677597046),\n",
       " ('패권', 0.2018493264913559),\n",
       " ('튜브', 0.1979450285434723),\n",
       " ('동상', 0.1965635120868683),\n",
       " ('개밥', 0.19515354931354523),\n",
       " ('지심', 0.1951085329055786),\n",
       " ('개전', 0.19380395114421844)]"
      ]
     },
     "execution_count": 9,
     "metadata": {},
     "output_type": "execute_result"
    }
   ],
   "source": [
    "doc2vec.most_similar('실망')"
   ]
  },
  {
   "cell_type": "code",
   "execution_count": 14,
   "metadata": {},
   "outputs": [
    {
     "data": {
      "text/plain": [
       "gensim.models.doc2vec.Doc2Vec"
      ]
     },
     "execution_count": 14,
     "metadata": {},
     "output_type": "execute_result"
    }
   ],
   "source": [
    "type(doc2vec)"
   ]
  },
  {
   "cell_type": "code",
   "execution_count": 19,
   "metadata": {},
   "outputs": [
    {
     "data": {
      "text/plain": [
       "<bound method Doc2Vec.infer_vector of <gensim.models.doc2vec.Doc2Vec object at 0x0000024E03DB7248>>"
      ]
     },
     "execution_count": 19,
     "metadata": {},
     "output_type": "execute_result"
    }
   ],
   "source": [
    "doc2vec.infer_vector"
   ]
  },
  {
   "cell_type": "code",
   "execution_count": 18,
   "metadata": {},
   "outputs": [
    {
     "ename": "TypeError",
     "evalue": "unhashable type: 'slice'",
     "output_type": "error",
     "traceback": [
      "\u001b[1;31m---------------------------------------------------------------------------\u001b[0m",
      "\u001b[1;31mTypeError\u001b[0m                                 Traceback (most recent call last)",
      "\u001b[1;32m<ipython-input-18-49aa1e2dc39f>\u001b[0m in \u001b[0;36m<module>\u001b[1;34m\u001b[0m\n\u001b[1;32m----> 1\u001b[1;33m \u001b[0mdoc2vec\u001b[0m\u001b[1;33m.\u001b[0m\u001b[0mdocvecs\u001b[0m\u001b[1;33m[\u001b[0m\u001b[1;33m:\u001b[0m\u001b[1;33m]\u001b[0m\u001b[1;33m\u001b[0m\u001b[1;33m\u001b[0m\u001b[0m\n\u001b[0m",
      "\u001b[1;32m~\\anaconda3\\lib\\site-packages\\gensim\\models\\keyedvectors.py\u001b[0m in \u001b[0;36m__getitem__\u001b[1;34m(self, index)\u001b[0m\n\u001b[0;32m   1607\u001b[0m \u001b[1;33m\u001b[0m\u001b[0m\n\u001b[0;32m   1608\u001b[0m         \"\"\"\n\u001b[1;32m-> 1609\u001b[1;33m         \u001b[1;32mif\u001b[0m \u001b[0mindex\u001b[0m \u001b[1;32min\u001b[0m \u001b[0mself\u001b[0m\u001b[1;33m:\u001b[0m\u001b[1;33m\u001b[0m\u001b[1;33m\u001b[0m\u001b[0m\n\u001b[0m\u001b[0;32m   1610\u001b[0m             \u001b[1;32mif\u001b[0m \u001b[0misinstance\u001b[0m\u001b[1;33m(\u001b[0m\u001b[0mindex\u001b[0m\u001b[1;33m,\u001b[0m \u001b[0mstring_types\u001b[0m \u001b[1;33m+\u001b[0m \u001b[0minteger_types\u001b[0m \u001b[1;33m+\u001b[0m \u001b[1;33m(\u001b[0m\u001b[0minteger\u001b[0m\u001b[1;33m,\u001b[0m\u001b[1;33m)\u001b[0m\u001b[1;33m)\u001b[0m\u001b[1;33m:\u001b[0m\u001b[1;33m\u001b[0m\u001b[1;33m\u001b[0m\u001b[0m\n\u001b[0;32m   1611\u001b[0m                 \u001b[1;32mreturn\u001b[0m \u001b[0mself\u001b[0m\u001b[1;33m.\u001b[0m\u001b[0mvectors_docs\u001b[0m\u001b[1;33m[\u001b[0m\u001b[0mself\u001b[0m\u001b[1;33m.\u001b[0m\u001b[0m_int_index\u001b[0m\u001b[1;33m(\u001b[0m\u001b[0mindex\u001b[0m\u001b[1;33m,\u001b[0m \u001b[0mself\u001b[0m\u001b[1;33m.\u001b[0m\u001b[0mdoctags\u001b[0m\u001b[1;33m,\u001b[0m \u001b[0mself\u001b[0m\u001b[1;33m.\u001b[0m\u001b[0mmax_rawint\u001b[0m\u001b[1;33m)\u001b[0m\u001b[1;33m]\u001b[0m\u001b[1;33m\u001b[0m\u001b[1;33m\u001b[0m\u001b[0m\n",
      "\u001b[1;32m~\\anaconda3\\lib\\site-packages\\gensim\\models\\keyedvectors.py\u001b[0m in \u001b[0;36m__contains__\u001b[1;34m(self, index)\u001b[0m\n\u001b[0;32m   1617\u001b[0m             \u001b[1;32mreturn\u001b[0m \u001b[0mindex\u001b[0m \u001b[1;33m<\u001b[0m \u001b[0mself\u001b[0m\u001b[1;33m.\u001b[0m\u001b[0mcount\u001b[0m\u001b[1;33m\u001b[0m\u001b[1;33m\u001b[0m\u001b[0m\n\u001b[0;32m   1618\u001b[0m         \u001b[1;32melse\u001b[0m\u001b[1;33m:\u001b[0m\u001b[1;33m\u001b[0m\u001b[1;33m\u001b[0m\u001b[0m\n\u001b[1;32m-> 1619\u001b[1;33m             \u001b[1;32mreturn\u001b[0m \u001b[0mindex\u001b[0m \u001b[1;32min\u001b[0m \u001b[0mself\u001b[0m\u001b[1;33m.\u001b[0m\u001b[0mdoctags\u001b[0m\u001b[1;33m\u001b[0m\u001b[1;33m\u001b[0m\u001b[0m\n\u001b[0m\u001b[0;32m   1620\u001b[0m \u001b[1;33m\u001b[0m\u001b[0m\n\u001b[0;32m   1621\u001b[0m     \u001b[1;32mdef\u001b[0m \u001b[0m__len__\u001b[0m\u001b[1;33m(\u001b[0m\u001b[0mself\u001b[0m\u001b[1;33m)\u001b[0m\u001b[1;33m:\u001b[0m\u001b[1;33m\u001b[0m\u001b[1;33m\u001b[0m\u001b[0m\n",
      "\u001b[1;31mTypeError\u001b[0m: unhashable type: 'slice'"
     ]
    }
   ],
   "source": [
    "doc2vec.docvecs[:]"
   ]
  },
  {
   "cell_type": "code",
   "execution_count": 20,
   "metadata": {},
   "outputs": [
    {
     "data": {
      "text/plain": [
       "array([-1.0387286e-03, -2.1782602e-04,  5.5857666e-04,  1.1699363e-03,\n",
       "        1.3605736e-03, -5.7371700e-04,  6.7139795e-04, -5.6329026e-04,\n",
       "        4.6198783e-04, -1.3492049e-03,  8.4407438e-05,  2.2460287e-04,\n",
       "        1.4850759e-03, -1.6397443e-04,  1.1460753e-03, -1.3953317e-03,\n",
       "       -9.6137478e-04,  8.3290646e-04, -1.0508924e-03,  1.3727111e-04,\n",
       "        1.1146237e-04,  1.4545842e-03,  1.4059443e-04, -1.2760714e-03,\n",
       "       -6.8794133e-04,  4.3740158e-04,  5.5394432e-04,  3.1483252e-04,\n",
       "       -1.7673784e-04, -1.5721697e-03, -1.2657482e-03,  6.7203789e-04,\n",
       "       -3.7629003e-04, -6.0548499e-04, -8.4605609e-04, -3.2729004e-04,\n",
       "       -3.4663817e-04, -6.3684455e-04, -8.3895324e-04,  7.0763723e-04,\n",
       "       -7.4592320e-04,  2.5862384e-05,  1.3615674e-03, -7.5594371e-04,\n",
       "       -9.7629940e-04,  1.4964427e-03,  3.8920532e-04, -3.2745666e-04,\n",
       "       -2.1506107e-04, -1.1857288e-03, -2.5259162e-04, -9.7032556e-05,\n",
       "       -4.5674870e-04,  3.8377341e-04, -2.1564716e-04,  5.9695554e-04,\n",
       "        1.8522557e-04,  1.3616789e-03, -1.1983201e-03, -1.0249858e-03,\n",
       "        1.6082529e-03, -1.3793127e-03, -1.7349863e-04, -4.2039133e-04,\n",
       "       -3.9298832e-04,  1.5734045e-03,  1.5645804e-03, -1.0577100e-03,\n",
       "       -2.0757949e-05,  9.2767499e-04, -1.6608852e-03, -1.1663855e-03,\n",
       "       -4.8361754e-04, -2.3541797e-04,  3.5241648e-04, -6.4510881e-04,\n",
       "        1.5142892e-03, -1.4591656e-03,  6.2297760e-05, -4.6121521e-04,\n",
       "        2.2991859e-04,  1.2437714e-03,  1.4325744e-03,  5.2326656e-04,\n",
       "        5.5666483e-04,  1.5382193e-03,  5.9774891e-05, -2.7196234e-04,\n",
       "       -8.1270479e-04, -6.0771964e-04,  9.0531388e-04,  8.1132568e-04,\n",
       "       -1.6177340e-03, -1.4707785e-03, -8.2872616e-04, -1.4697845e-03,\n",
       "       -6.2092062e-04, -8.0821213e-05, -1.2160308e-03, -1.3556863e-03,\n",
       "        1.2647198e-03,  8.5329899e-04,  1.2262714e-03, -7.4142328e-05,\n",
       "       -5.4250448e-04, -1.2597211e-03, -9.8755548e-04, -6.4007414e-04,\n",
       "       -1.6402631e-03,  1.1721639e-03, -1.1887482e-03,  9.6608349e-04,\n",
       "       -6.5989624e-04,  1.4365427e-03,  1.2463193e-03,  9.4178540e-04,\n",
       "        5.5269123e-04, -8.2114316e-04, -1.1274209e-03, -8.1429386e-04,\n",
       "        8.5124467e-04,  3.0619948e-04, -6.1877863e-04,  3.3234281e-04,\n",
       "       -3.7905158e-04, -5.7085365e-04,  9.3188713e-04, -2.5753380e-04,\n",
       "        3.0336552e-04, -9.5371273e-04, -1.4988319e-03,  1.4822218e-03,\n",
       "        5.2408484e-04,  1.4559241e-04,  4.0585874e-04, -3.1438196e-04,\n",
       "       -9.6699741e-04, -7.2643528e-04,  6.9266200e-05, -8.0125587e-04,\n",
       "        1.7472373e-04,  1.1957968e-03,  7.5996260e-04,  1.5987135e-03,\n",
       "       -3.8092152e-05, -1.4431270e-04, -1.5658010e-03,  5.5666192e-04,\n",
       "        3.0417921e-04, -8.7653328e-04, -7.5140060e-04,  1.1848165e-03,\n",
       "        1.1501262e-03,  8.1868964e-04,  5.5170932e-04,  3.7978683e-04,\n",
       "        1.2250132e-03,  1.3511687e-03,  1.4054202e-03, -3.5784711e-04,\n",
       "        1.6270202e-03,  1.3274607e-03,  7.4909281e-06, -1.2906705e-03,\n",
       "       -1.4926804e-03, -1.4668886e-03, -1.3184241e-03,  8.8499201e-04,\n",
       "       -1.1887673e-03,  6.8469637e-04, -3.7484139e-04,  6.1885663e-04,\n",
       "        8.1902777e-04, -7.5548515e-04, -1.3330871e-03,  2.8908707e-04,\n",
       "        4.2252903e-04, -1.4085727e-03,  8.9026158e-05, -1.5326476e-03,\n",
       "       -8.2477235e-04,  4.7273983e-04,  1.0424085e-03, -7.2087214e-04,\n",
       "        1.2882046e-03,  1.3525082e-03,  7.5998600e-05,  9.2869415e-04,\n",
       "        2.3545772e-05,  8.8121399e-04, -1.3366337e-03,  9.7829860e-04,\n",
       "       -1.2763758e-04, -1.3425588e-03,  7.1373722e-04, -1.6293989e-03,\n",
       "        3.2079144e-04,  1.2371213e-03, -1.0114872e-03, -5.7792931e-05,\n",
       "       -7.1771203e-05, -1.5290120e-03, -8.4446982e-04,  8.7605062e-04,\n",
       "       -1.1376394e-03, -1.3222024e-03, -2.4987524e-04, -6.5946416e-04,\n",
       "       -1.6600294e-03, -2.1586145e-04,  9.9252583e-04, -1.2112969e-03,\n",
       "        1.1915616e-03, -4.4496622e-04,  3.4702584e-04, -3.1537793e-04,\n",
       "       -1.5630189e-03, -1.7844205e-04, -6.4486999e-04, -1.2886105e-03,\n",
       "        1.1525723e-03,  6.6561450e-04,  3.2231430e-04, -1.0368116e-05,\n",
       "       -2.6886771e-04, -3.6742599e-04,  1.5954255e-03,  9.2153568e-06,\n",
       "        9.3066337e-05,  1.5151731e-03,  3.4267444e-04, -1.1557990e-03,\n",
       "        4.7411030e-04,  8.1176852e-04,  1.1906511e-03, -6.2279642e-04,\n",
       "        7.9943525e-04, -5.3934980e-04,  8.3786889e-04, -1.3600688e-03,\n",
       "        6.8474136e-04, -1.0531422e-03, -1.1920440e-03,  1.3826826e-03,\n",
       "       -7.5387693e-04, -1.3144951e-03, -1.8757852e-04, -6.3090585e-04,\n",
       "       -6.6574075e-04,  1.4903254e-04,  8.2236290e-04,  1.6237936e-03,\n",
       "       -2.0178732e-04,  1.0814593e-04,  8.1202324e-04,  2.4216723e-04,\n",
       "       -3.2252399e-04,  1.1171297e-03,  4.5216456e-04,  7.8067905e-04,\n",
       "       -4.3394521e-04,  1.4975916e-03, -1.3840368e-03, -1.2536986e-03,\n",
       "        6.9602783e-04, -2.7554843e-04, -3.5673738e-04, -1.4845172e-03,\n",
       "        1.1608986e-04, -4.4952059e-05, -1.7980649e-04,  1.0850959e-03,\n",
       "        2.9177747e-05, -7.1735971e-04, -7.9309422e-05, -1.4452821e-03,\n",
       "        1.0091306e-03,  1.1473055e-03,  1.6101056e-03, -1.4528802e-03,\n",
       "       -5.0089486e-05,  1.5186267e-03,  9.0786151e-04, -5.9820747e-04,\n",
       "        1.1814792e-03,  4.7213846e-04, -1.2573252e-03,  2.0830172e-04,\n",
       "        1.5683641e-03,  5.5959415e-05, -1.1699245e-03,  1.5523754e-03,\n",
       "       -4.3807231e-04, -1.0754283e-03,  4.7845984e-04,  4.3589759e-04,\n",
       "        5.6678150e-04,  8.6591969e-04,  9.3487388e-04, -1.1736002e-03],\n",
       "      dtype=float32)"
      ]
     },
     "execution_count": 20,
     "metadata": {},
     "output_type": "execute_result"
    }
   ],
   "source": [
    "doc2vec.docvecs[0]"
   ]
  },
  {
   "cell_type": "code",
   "execution_count": null,
   "metadata": {},
   "outputs": [],
   "source": []
  }
 ],
 "metadata": {
  "kernelspec": {
   "display_name": "Python 3",
   "language": "python",
   "name": "python3"
  },
  "language_info": {
   "codemirror_mode": {
    "name": "ipython",
    "version": 3
   },
   "file_extension": ".py",
   "mimetype": "text/x-python",
   "name": "python",
   "nbconvert_exporter": "python",
   "pygments_lexer": "ipython3",
   "version": "3.7.7"
  }
 },
 "nbformat": 4,
 "nbformat_minor": 4
}
