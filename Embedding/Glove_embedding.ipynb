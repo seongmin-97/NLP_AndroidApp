{
  "nbformat": 4,
  "nbformat_minor": 0,
  "metadata": {
    "colab": {
      "name": "Glove-embedding.ipynb",
      "provenance": [],
      "collapsed_sections": []
    },
    "kernelspec": {
      "name": "python3",
      "display_name": "Python 3"
    }
  },
  "cells": [
    {
      "cell_type": "code",
      "metadata": {
        "colab": {
          "base_uri": "https://localhost:8080/"
        },
        "id": "HFrnU-XXHMlk",
        "outputId": "e4855d8c-9721-4fea-b4b2-25f10da426f4"
      },
      "source": [
        "pip install glove_python"
      ],
      "execution_count": 2,
      "outputs": [
        {
          "output_type": "stream",
          "text": [
            "Collecting glove_python\n",
            "\u001b[?25l  Downloading https://files.pythonhosted.org/packages/3e/79/7e7e548dd9dcb741935d031117f4bed133276c2a047aadad42f1552d1771/glove_python-0.1.0.tar.gz (263kB)\n",
            "\r\u001b[K     |█▎                              | 10kB 10.9MB/s eta 0:00:01\r\u001b[K     |██▌                             | 20kB 14.5MB/s eta 0:00:01\r\u001b[K     |███▊                            | 30kB 12.0MB/s eta 0:00:01\r\u001b[K     |█████                           | 40kB 9.2MB/s eta 0:00:01\r\u001b[K     |██████▎                         | 51kB 4.6MB/s eta 0:00:01\r\u001b[K     |███████▌                        | 61kB 5.0MB/s eta 0:00:01\r\u001b[K     |████████▊                       | 71kB 5.2MB/s eta 0:00:01\r\u001b[K     |██████████                      | 81kB 5.5MB/s eta 0:00:01\r\u001b[K     |███████████▏                    | 92kB 5.6MB/s eta 0:00:01\r\u001b[K     |████████████▌                   | 102kB 6.0MB/s eta 0:00:01\r\u001b[K     |█████████████▊                  | 112kB 6.0MB/s eta 0:00:01\r\u001b[K     |███████████████                 | 122kB 6.0MB/s eta 0:00:01\r\u001b[K     |████████████████▏               | 133kB 6.0MB/s eta 0:00:01\r\u001b[K     |█████████████████▍              | 143kB 6.0MB/s eta 0:00:01\r\u001b[K     |██████████████████▊             | 153kB 6.0MB/s eta 0:00:01\r\u001b[K     |████████████████████            | 163kB 6.0MB/s eta 0:00:01\r\u001b[K     |█████████████████████▏          | 174kB 6.0MB/s eta 0:00:01\r\u001b[K     |██████████████████████▍         | 184kB 6.0MB/s eta 0:00:01\r\u001b[K     |███████████████████████▋        | 194kB 6.0MB/s eta 0:00:01\r\u001b[K     |█████████████████████████       | 204kB 6.0MB/s eta 0:00:01\r\u001b[K     |██████████████████████████▏     | 215kB 6.0MB/s eta 0:00:01\r\u001b[K     |███████████████████████████▍    | 225kB 6.0MB/s eta 0:00:01\r\u001b[K     |████████████████████████████▋   | 235kB 6.0MB/s eta 0:00:01\r\u001b[K     |█████████████████████████████▉  | 245kB 6.0MB/s eta 0:00:01\r\u001b[K     |███████████████████████████████▏| 256kB 6.0MB/s eta 0:00:01\r\u001b[K     |████████████████████████████████| 266kB 6.0MB/s \n",
            "\u001b[?25hRequirement already satisfied: numpy in /usr/local/lib/python3.6/dist-packages (from glove_python) (1.19.5)\n",
            "Requirement already satisfied: scipy in /usr/local/lib/python3.6/dist-packages (from glove_python) (1.4.1)\n",
            "Building wheels for collected packages: glove-python\n",
            "  Building wheel for glove-python (setup.py) ... \u001b[?25l\u001b[?25hdone\n",
            "  Created wheel for glove-python: filename=glove_python-0.1.0-cp36-cp36m-linux_x86_64.whl size=700252 sha256=e3e5f2e8d4b3b428d93c2e014a37dc984709f21d3f06c57439f48962cf0976cd\n",
            "  Stored in directory: /root/.cache/pip/wheels/88/4b/6d/10c0d2ad32c9d9d68beec9694a6f0b6e83ab1662a90a089a4b\n",
            "Successfully built glove-python\n",
            "Installing collected packages: glove-python\n",
            "Successfully installed glove-python-0.1.0\n"
          ],
          "name": "stdout"
        }
      ]
    },
    {
      "cell_type": "code",
      "metadata": {
        "id": "qQSaAAkOHP3Y"
      },
      "source": [
        "import numpy as np\r\n",
        "import pandas as pd\r\n",
        "from glove import Corpus, Glove"
      ],
      "execution_count": 3,
      "outputs": []
    },
    {
      "cell_type": "code",
      "metadata": {
        "id": "_LgLhZKeHoBC"
      },
      "source": [
        "\n",
        "naverReview = pd.read_csv('/naverReview_preprocess_Okt.csv', encoding = 'UTF8')"
      ],
      "execution_count": 6,
      "outputs": []
    },
    {
      "cell_type": "code",
      "metadata": {
        "id": "ooKIdPMXISFJ"
      },
      "source": [
        "data = naverReview"
      ],
      "execution_count": 7,
      "outputs": []
    },
    {
      "cell_type": "code",
      "metadata": {
        "id": "lM6YxhL1I1Ak"
      },
      "source": [
        "contexts = list(data['context'])\r\n",
        "\r\n",
        "sentences = []\r\n",
        "for context in contexts :\r\n",
        "    sentences.append(str(context).split())\r\n",
        "#데이터 변환"
      ],
      "execution_count": 8,
      "outputs": []
    },
    {
      "cell_type": "code",
      "metadata": {
        "id": "6fS6TfmCI3Hh"
      },
      "source": [
        "corpus = Corpus()"
      ],
      "execution_count": 11,
      "outputs": []
    },
    {
      "cell_type": "code",
      "metadata": {
        "id": "0WNQ-UKAI-0b"
      },
      "source": [
        "corpus.fit(sentences, window=5)"
      ],
      "execution_count": 13,
      "outputs": []
    },
    {
      "cell_type": "code",
      "metadata": {
        "colab": {
          "base_uri": "https://localhost:8080/"
        },
        "id": "soIYbHNGJDL0",
        "outputId": "9a823013-6bb6-45a6-d6a4-9deee1833728"
      },
      "source": [
        "glove = Glove(no_components=100, learning_rate=0.05)\r\n",
        "glove.fit(corpus.matrix, epochs=20, no_threads=4, verbose=True)\r\n",
        "glove.add_dictionary(corpus.dictionary)"
      ],
      "execution_count": 17,
      "outputs": [
        {
          "output_type": "stream",
          "text": [
            "Performing 20 training epochs with 4 threads\n",
            "Epoch 0\n",
            "Epoch 1\n",
            "Epoch 2\n",
            "Epoch 3\n",
            "Epoch 4\n",
            "Epoch 5\n",
            "Epoch 6\n",
            "Epoch 7\n",
            "Epoch 8\n",
            "Epoch 9\n",
            "Epoch 10\n",
            "Epoch 11\n",
            "Epoch 12\n",
            "Epoch 13\n",
            "Epoch 14\n",
            "Epoch 15\n",
            "Epoch 16\n",
            "Epoch 17\n",
            "Epoch 18\n",
            "Epoch 19\n"
          ],
          "name": "stdout"
        }
      ]
    },
    {
      "cell_type": "code",
      "metadata": {
        "colab": {
          "base_uri": "https://localhost:8080/"
        },
        "id": "t59AnmGPJYQl",
        "outputId": "8f9851ac-8a48-4f1b-8e67-77ef6f01266f"
      },
      "source": [
        "glove.most_similar(\"재미\")"
      ],
      "execution_count": 33,
      "outputs": [
        {
          "output_type": "execute_result",
          "data": {
            "text/plain": [
              "[('잼잼잼잼', 0.9190998184008499),\n",
              " ('쪙', 0.8830497064149088),\n",
              " ('잇다', 0.8325857326089104),\n",
              " ('업다', 0.7641224989629767)]"
            ]
          },
          "metadata": {
            "tags": []
          },
          "execution_count": 33
        }
      ]
    },
    {
      "cell_type": "code",
      "metadata": {
        "id": "iOb6s1pFKp85"
      },
      "source": [
        "glove.save('/Glove-embedding.model')"
      ],
      "execution_count": 34,
      "outputs": []
    },
    {
      "cell_type": "code",
      "metadata": {
        "id": "Wut8vgEJLszG"
      },
      "source": [
        "asdasd = glove.load('/Glove-embedding.model')"
      ],
      "execution_count": 35,
      "outputs": []
    },
    {
      "cell_type": "code",
      "metadata": {
        "colab": {
          "base_uri": "https://localhost:8080/"
        },
        "id": "NdReXH2hMES9",
        "outputId": "c8d96b77-bd55-468b-ae51-f388bc4c75af"
      },
      "source": [
        "asdasd.most_similar(\"재미\")"
      ],
      "execution_count": 36,
      "outputs": [
        {
          "output_type": "execute_result",
          "data": {
            "text/plain": [
              "[('잼잼잼잼', 0.9190998184008499),\n",
              " ('쪙', 0.8830497064149088),\n",
              " ('잇다', 0.8325857326089104),\n",
              " ('업다', 0.7641224989629767)]"
            ]
          },
          "metadata": {
            "tags": []
          },
          "execution_count": 36
        }
      ]
    },
    {
      "cell_type": "code",
      "metadata": {
        "id": "CvTx4tWyMHdu"
      },
      "source": [
        ""
      ],
      "execution_count": null,
      "outputs": []
    }
  ]
}