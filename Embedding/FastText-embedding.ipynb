{
 "cells": [
  {
   "cell_type": "code",
   "execution_count": 1,
   "metadata": {},
   "outputs": [],
   "source": [
    "import numpy as np\n",
    "import pandas as pd\n",
    "from gensim.models import FastText\n",
    "from tqdm import tqdm"
   ]
  },
  {
   "cell_type": "code",
   "execution_count": 4,
   "metadata": {},
   "outputs": [],
   "source": [
    "DATA_IN_PATH = '../data/preprocess/'\n",
    "\n",
    "KorQuAd = pd.read_csv(DATA_IN_PATH + 'KorQuAd_preprocess_Okt.csv', encoding = 'UTF8')\n",
    "naverReview = pd.read_csv(DATA_IN_PATH + 'naverReview_preprocess_Okt.csv', encoding = 'UTF8')\n",
    "ultraDiary = pd.read_csv(DATA_IN_PATH + 'ultraDiary_preprocess_Okt.csv', encoding = 'UTF8')"
   ]
  },
  {
   "cell_type": "code",
   "execution_count": 5,
   "metadata": {},
   "outputs": [],
   "source": [
    "data = KorQuAd.append(naverReview)\n",
    "data = data.append(ultraDiary)\n",
    "#데이터 저장"
   ]
  },
  {
   "cell_type": "code",
   "execution_count": 6,
   "metadata": {},
   "outputs": [],
   "source": [
    "contexts = list(data['context'])\n",
    "\n",
    "sentences = []\n",
    "for context in contexts :\n",
    "    sentences.append(str(context).split())\n",
    "#데이터 변환"
   ]
  },
  {
   "cell_type": "code",
   "execution_count": 7,
   "metadata": {},
   "outputs": [],
   "source": [
    "model = FastText(sentences, size=100, workers=4, sg=1, iter=2, word_ngrams=2)"
   ]
  },
  {
   "cell_type": "code",
   "execution_count": 8,
   "metadata": {},
   "outputs": [
    {
     "data": {
      "text/plain": [
       "<gensim.models.fasttext.FastText at 0x262dd8774f0>"
      ]
     },
     "execution_count": 8,
     "metadata": {},
     "output_type": "execute_result"
    }
   ],
   "source": [
    "model"
   ]
  },
  {
   "cell_type": "code",
   "execution_count": 9,
   "metadata": {},
   "outputs": [
    {
     "name": "stderr",
     "output_type": "stream",
     "text": [
      "<ipython-input-9-ae070e0e5008>:1: DeprecationWarning: Call to deprecated `most_similar` (Method will be removed in 4.0.0, use self.wv.most_similar() instead).\n",
      "  model.most_similar(\"기훈\")\n"
     ]
    },
    {
     "data": {
      "text/plain": [
       "[('천생연분', 0.9779716730117798),\n",
       " ('야다', 0.9743731617927551),\n",
       " ('일편단심', 0.9743112325668335),\n",
       " ('맘알', 0.974172830581665),\n",
       " ('푸지', 0.9738401174545288),\n",
       " ('야너', 0.973610520362854),\n",
       " ('하제', 0.9735690355300903),\n",
       " ('빼빼', 0.9735525846481323),\n",
       " ('때더', 0.9729940891265869),\n",
       " ('닥달', 0.9729001522064209)]"
      ]
     },
     "execution_count": 9,
     "metadata": {},
     "output_type": "execute_result"
    }
   ],
   "source": [
    "model.most_similar(\"기훈\")"
   ]
  },
  {
   "cell_type": "code",
   "execution_count": 10,
   "metadata": {},
   "outputs": [
    {
     "name": "stderr",
     "output_type": "stream",
     "text": [
      "<ipython-input-10-dfccabd51038>:1: DeprecationWarning: Call to deprecated `most_similar` (Method will be removed in 4.0.0, use self.wv.most_similar() instead).\n",
      "  model.most_similar(\"정기훈\")\n"
     ]
    },
    {
     "data": {
      "text/plain": [
       "[('고연전', 0.9633452892303467),\n",
       " ('정기용', 0.9595242738723755),\n",
       " ('현세', 0.957490861415863),\n",
       " ('지학', 0.9552153944969177),\n",
       " ('향악', 0.9550868272781372),\n",
       " ('타깃', 0.9550366401672363),\n",
       " ('컨퍼', 0.9543086886405945),\n",
       " ('수궁가', 0.9542604684829712),\n",
       " ('바운스', 0.9537590742111206),\n",
       " ('천리교', 0.9532314538955688)]"
      ]
     },
     "execution_count": 10,
     "metadata": {},
     "output_type": "execute_result"
    }
   ],
   "source": [
    "model.most_similar(\"정기훈\")"
   ]
  },
  {
   "cell_type": "code",
   "execution_count": 11,
   "metadata": {},
   "outputs": [
    {
     "name": "stderr",
     "output_type": "stream",
     "text": [
      "<ipython-input-11-1b8530116189>:1: DeprecationWarning: Call to deprecated `most_similar` (Method will be removed in 4.0.0, use self.wv.most_similar() instead).\n",
      "  model.most_similar(\"짜증\")\n"
     ]
    },
    {
     "data": {
      "text/plain": [
       "[('신경질', 0.8515321016311646),\n",
       " ('짜증나다', 0.806755542755127),\n",
       " ('화도', 0.7934920787811279),\n",
       " ('화가', 0.7683383226394653),\n",
       " ('화나다', 0.7523679733276367),\n",
       " ('답답', 0.7365820407867432),\n",
       " ('구역질', 0.7361924648284912),\n",
       " ('짜증스럽다', 0.727726399898529),\n",
       " ('싫증나다', 0.726581335067749),\n",
       " ('답답하다', 0.725991427898407)]"
      ]
     },
     "execution_count": 11,
     "metadata": {},
     "output_type": "execute_result"
    }
   ],
   "source": [
    "model.most_similar(\"짜증\")"
   ]
  },
  {
   "cell_type": "code",
   "execution_count": 12,
   "metadata": {},
   "outputs": [],
   "source": [
    "model.save('./embedding_data/FastText_embedding.model')"
   ]
  },
  {
   "cell_type": "code",
   "execution_count": null,
   "metadata": {},
   "outputs": [],
   "source": []
  }
 ],
 "metadata": {
  "kernelspec": {
   "display_name": "Python 3",
   "language": "python",
   "name": "python3"
  },
  "language_info": {
   "codemirror_mode": {
    "name": "ipython",
    "version": 3
   },
   "file_extension": ".py",
   "mimetype": "text/x-python",
   "name": "python",
   "nbconvert_exporter": "python",
   "pygments_lexer": "ipython3",
   "version": "3.8.5"
  }
 },
 "nbformat": 4,
 "nbformat_minor": 4
}
