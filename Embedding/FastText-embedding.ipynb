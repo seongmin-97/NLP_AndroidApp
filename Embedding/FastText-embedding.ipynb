{
 "cells": [
  {
   "cell_type": "code",
   "execution_count": 1,
   "metadata": {},
   "outputs": [],
   "source": [
    "import numpy as np\n",
    "import pandas as pd\n",
    "from gensim.models import FastText\n",
    "from tqdm import tqdm"
   ]
  },
  {
   "cell_type": "code",
   "execution_count": 2,
   "metadata": {},
   "outputs": [],
   "source": [
    "DATA_IN_PATH = '../data/preprocess/'\n",
    "\n",
    "naverReview = pd.read_csv(DATA_IN_PATH + 'naverReview_preprocess_Okt.csv', encoding = 'UTF8')"
   ]
  },
  {
   "cell_type": "code",
   "execution_count": 4,
   "metadata": {},
   "outputs": [
    {
     "data": {
      "text/html": [
       "<div>\n",
       "<style scoped>\n",
       "    .dataframe tbody tr th:only-of-type {\n",
       "        vertical-align: middle;\n",
       "    }\n",
       "\n",
       "    .dataframe tbody tr th {\n",
       "        vertical-align: top;\n",
       "    }\n",
       "\n",
       "    .dataframe thead th {\n",
       "        text-align: right;\n",
       "    }\n",
       "</style>\n",
       "<table border=\"1\" class=\"dataframe\">\n",
       "  <thead>\n",
       "    <tr style=\"text-align: right;\">\n",
       "      <th></th>\n",
       "      <th>context</th>\n",
       "    </tr>\n",
       "  </thead>\n",
       "  <tbody>\n",
       "    <tr>\n",
       "      <th>0</th>\n",
       "      <td>아 더빙 진짜 짜증나다 목소리</td>\n",
       "    </tr>\n",
       "    <tr>\n",
       "      <th>1</th>\n",
       "      <td>흠 포스터 보고 초딩 영화 줄 오버 연기 조차 가볍다 않다</td>\n",
       "    </tr>\n",
       "    <tr>\n",
       "      <th>2</th>\n",
       "      <td>너 무재 밓었 다그 래서 보다 추천 한 다</td>\n",
       "    </tr>\n",
       "    <tr>\n",
       "      <th>3</th>\n",
       "      <td>교도소 이야기 구먼 솔직하다 재미 는 없다 평점 조정</td>\n",
       "    </tr>\n",
       "    <tr>\n",
       "      <th>4</th>\n",
       "      <td>사이 몬페 그 의 익살스럽다 연기 가 돋보이다 영화 스파이더맨 에서 늙다 보이다 하...</td>\n",
       "    </tr>\n",
       "    <tr>\n",
       "      <th>...</th>\n",
       "      <td>...</td>\n",
       "    </tr>\n",
       "    <tr>\n",
       "      <th>199987</th>\n",
       "      <td>오랜 만 에 평점 로 기다 하다 ㅋㅋ 킹왕짱 쌈뽕 한 영화 를 만나다 강렬하다 육 쾌함</td>\n",
       "    </tr>\n",
       "    <tr>\n",
       "      <th>199988</th>\n",
       "      <td>의지 박약 들 이나 하다 탈영 은 일단 주인공 김대희 닮다 이등병 찌다 따다</td>\n",
       "    </tr>\n",
       "    <tr>\n",
       "      <th>199989</th>\n",
       "      <td>그림 도 좋다 완성 도도 높다 보다 내내 불안하다 만들다</td>\n",
       "    </tr>\n",
       "    <tr>\n",
       "      <th>199990</th>\n",
       "      <td>절대 보다 서다 안 되다 영화 재미 도 없다 기분 만 잡 치고 하다 세트 장 에서 ...</td>\n",
       "    </tr>\n",
       "    <tr>\n",
       "      <th>199991</th>\n",
       "      <td>마무리 는 또 왜 이래</td>\n",
       "    </tr>\n",
       "  </tbody>\n",
       "</table>\n",
       "<p>199992 rows × 1 columns</p>\n",
       "</div>"
      ],
      "text/plain": [
       "                                                  context\n",
       "0                                        아 더빙 진짜 짜증나다 목소리\n",
       "1                        흠 포스터 보고 초딩 영화 줄 오버 연기 조차 가볍다 않다\n",
       "2                                 너 무재 밓었 다그 래서 보다 추천 한 다\n",
       "3                           교도소 이야기 구먼 솔직하다 재미 는 없다 평점 조정\n",
       "4       사이 몬페 그 의 익살스럽다 연기 가 돋보이다 영화 스파이더맨 에서 늙다 보이다 하...\n",
       "...                                                   ...\n",
       "199987   오랜 만 에 평점 로 기다 하다 ㅋㅋ 킹왕짱 쌈뽕 한 영화 를 만나다 강렬하다 육 쾌함\n",
       "199988         의지 박약 들 이나 하다 탈영 은 일단 주인공 김대희 닮다 이등병 찌다 따다\n",
       "199989                    그림 도 좋다 완성 도도 높다 보다 내내 불안하다 만들다\n",
       "199990  절대 보다 서다 안 되다 영화 재미 도 없다 기분 만 잡 치고 하다 세트 장 에서 ...\n",
       "199991                                       마무리 는 또 왜 이래\n",
       "\n",
       "[199992 rows x 1 columns]"
      ]
     },
     "execution_count": 4,
     "metadata": {},
     "output_type": "execute_result"
    }
   ],
   "source": [
    "data = naverReview\n",
    "#데이터 저장\n",
    "data"
   ]
  },
  {
   "cell_type": "code",
   "execution_count": 4,
   "metadata": {},
   "outputs": [],
   "source": [
    "contexts = list(data['context'])\n",
    "\n",
    "sentences = []\n",
    "for context in contexts :\n",
    "    sentences.append(str(context).split())\n",
    "#데이터 변환"
   ]
  },
  {
   "cell_type": "code",
   "execution_count": 5,
   "metadata": {},
   "outputs": [],
   "source": [
    "model = FastText(sentences, size=100, workers=4, sg=1, iter=2, word_ngrams=2)"
   ]
  },
  {
   "cell_type": "code",
   "execution_count": 6,
   "metadata": {},
   "outputs": [
    {
     "data": {
      "text/plain": [
       "<gensim.models.fasttext.FastText at 0x19595548688>"
      ]
     },
     "execution_count": 6,
     "metadata": {},
     "output_type": "execute_result"
    }
   ],
   "source": [
    "model"
   ]
  },
  {
   "cell_type": "code",
   "execution_count": 7,
   "metadata": {},
   "outputs": [
    {
     "name": "stderr",
     "output_type": "stream",
     "text": [
      "<ipython-input-7-de8f9e1b1a0f>:1: DeprecationWarning: Call to deprecated `most_similar` (Method will be removed in 4.0.0, use self.wv.most_similar() instead).\n",
      "  model.most_similar(\"공포\")\n"
     ]
    },
    {
     "data": {
      "text/plain": [
       "[('스릴러', 0.8526386022567749),\n",
       " ('공포물', 0.8307088613510132),\n",
       " ('스릴러물', 0.821247935295105),\n",
       " ('공포영화', 0.8054917454719543),\n",
       " ('호러', 0.7965096235275269),\n",
       " ('장르', 0.7780086994171143),\n",
       " ('미스터리', 0.7671066522598267),\n",
       " ('미스테리', 0.7662185430526733),\n",
       " ('서스펜스', 0.7631857395172119),\n",
       " ('호러물', 0.7601369619369507)]"
      ]
     },
     "execution_count": 7,
     "metadata": {},
     "output_type": "execute_result"
    }
   ],
   "source": [
    "model.most_similar(\"공포\")"
   ]
  },
  {
   "cell_type": "code",
   "execution_count": 8,
   "metadata": {},
   "outputs": [
    {
     "name": "stderr",
     "output_type": "stream",
     "text": [
      "<ipython-input-8-9b0ceb412313>:1: DeprecationWarning: Call to deprecated `most_similar` (Method will be removed in 4.0.0, use self.wv.most_similar() instead).\n",
      "  model.most_similar(\"추천\")\n"
     ]
    },
    {
     "data": {
      "text/plain": [
       "[('강력', 0.839849591255188),\n",
       " ('강추', 0.8016908168792725),\n",
       " ('적극', 0.789115309715271),\n",
       " ('후회', 0.7357131242752075),\n",
       " ('지인', 0.7281816005706787),\n",
       " ('해드리다', 0.7232320308685303),\n",
       " ('강추임', 0.7231366634368896),\n",
       " ('불면증', 0.7153891324996948),\n",
       " ('즐기다', 0.7051491737365723),\n",
       " ('보삼', 0.7050711512565613)]"
      ]
     },
     "execution_count": 8,
     "metadata": {},
     "output_type": "execute_result"
    }
   ],
   "source": [
    "model.most_similar(\"추천\")"
   ]
  },
  {
   "cell_type": "code",
   "execution_count": 9,
   "metadata": {},
   "outputs": [
    {
     "name": "stderr",
     "output_type": "stream",
     "text": [
      "<ipython-input-9-0e6f8612fd2c>:1: DeprecationWarning: Call to deprecated `most_similar` (Method will be removed in 4.0.0, use self.wv.most_similar() instead).\n",
      "  model.most_similar(\"재미\")\n"
     ]
    },
    {
     "data": {
      "text/plain": [
       "[('감흥', 0.7639541625976562),\n",
       " ('긴장도', 0.7281726598739624),\n",
       " ('잼', 0.7224427461624146),\n",
       " ('임팩트', 0.7136540412902832),\n",
       " ('뭣', 0.7075881958007812),\n",
       " ('흥미', 0.7068283557891846),\n",
       " ('라곤', 0.7012666463851929),\n",
       " ('볼일', 0.6988294124603271),\n",
       " ('어의', 0.6962276697158813),\n",
       " ('눈요기', 0.6878182888031006)]"
      ]
     },
     "execution_count": 9,
     "metadata": {},
     "output_type": "execute_result"
    }
   ],
   "source": [
    "model.most_similar(\"재미\")"
   ]
  },
  {
   "cell_type": "code",
   "execution_count": 7,
   "metadata": {},
   "outputs": [],
   "source": [
    "model.save('./embedding_data/FastText_embedding.model')"
   ]
  },
  {
   "cell_type": "code",
   "execution_count": 8,
   "metadata": {},
   "outputs": [
    {
     "name": "stderr",
     "output_type": "stream",
     "text": [
      "<ipython-input-8-9d8406fd939f>:1: DeprecationWarning: Call to deprecated `most_similar` (Method will be removed in 4.0.0, use self.wv.most_similar() instead).\n",
      "  model.most_similar(\"행복\")\n"
     ]
    },
    {
     "data": {
      "text/plain": [
       "[('행복감', 0.8609756231307983),\n",
       " ('기쁨', 0.8363745212554932),\n",
       " ('불행', 0.8331390023231506),\n",
       " ('축복', 0.8097516894340515),\n",
       " ('즐거움', 0.7997299432754517),\n",
       " ('행운', 0.7971456050872803),\n",
       " ('행복하다나', 0.7862399816513062),\n",
       " ('소중하다', 0.7860473394393921),\n",
       " ('깨달음', 0.7853025794029236),\n",
       " ('소망', 0.7818196415901184)]"
      ]
     },
     "execution_count": 8,
     "metadata": {},
     "output_type": "execute_result"
    }
   ],
   "source": [
    "model.most_similar(\"행복\")"
   ]
  },
  {
   "cell_type": "code",
   "execution_count": 9,
   "metadata": {},
   "outputs": [
    {
     "name": "stderr",
     "output_type": "stream",
     "text": [
      "<ipython-input-9-73f761e15f49>:1: DeprecationWarning: Call to deprecated `most_similar` (Method will be removed in 4.0.0, use self.wv.most_similar() instead).\n",
      "  model.most_similar(\"불행\")\n"
     ]
    },
    {
     "data": {
      "text/plain": [
       "[('시련', 0.8681150078773499),\n",
       " ('헛된', 0.8538600206375122),\n",
       " ('불행하다', 0.8534066677093506),\n",
       " ('참되다', 0.8488014936447144),\n",
       " ('이다세상', 0.8477574586868286),\n",
       " ('희망이', 0.8451268672943115),\n",
       " ('이다사람', 0.840864896774292),\n",
       " ('같다세상', 0.8400176763534546),\n",
       " ('괴로움', 0.8398903608322144),\n",
       " ('고난', 0.8396407961845398)]"
      ]
     },
     "execution_count": 9,
     "metadata": {},
     "output_type": "execute_result"
    }
   ],
   "source": [
    "model.most_similar(\"불행\")"
   ]
  },
  {
   "cell_type": "code",
   "execution_count": 10,
   "metadata": {},
   "outputs": [
    {
     "name": "stderr",
     "output_type": "stream",
     "text": [
      "<ipython-input-10-652236a2acb9>:1: DeprecationWarning: Call to deprecated `most_similar` (Method will be removed in 4.0.0, use self.wv.most_similar() instead).\n",
      "  model.most_similar(\"슬픔\")\n"
     ]
    },
    {
     "data": {
      "text/plain": [
       "[('외로움', 0.8771926164627075),\n",
       " ('아픔', 0.8674753904342651),\n",
       " ('괴로움', 0.8503663539886475),\n",
       " ('그리움', 0.845832347869873),\n",
       " ('쭝', 0.8332905769348145),\n",
       " ('기쁨', 0.8274071216583252),\n",
       " ('고독', 0.8233537673950195),\n",
       " ('미움', 0.8141388297080994),\n",
       " ('시련', 0.8030715584754944),\n",
       " ('고통', 0.8022689819335938)]"
      ]
     },
     "execution_count": 10,
     "metadata": {},
     "output_type": "execute_result"
    }
   ],
   "source": [
    "model.most_similar(\"슬픔\")"
   ]
  },
  {
   "cell_type": "code",
   "execution_count": 11,
   "metadata": {},
   "outputs": [
    {
     "name": "stderr",
     "output_type": "stream",
     "text": [
      "<ipython-input-11-80c50097bb1b>:1: DeprecationWarning: Call to deprecated `most_similar` (Method will be removed in 4.0.0, use self.wv.most_similar() instead).\n",
      "  model.most_similar(\"기쁨\")\n"
     ]
    },
    {
     "data": {
      "text/plain": [
       "[('즐거움', 0.8611025214195251),\n",
       " ('젊음', 0.8542147874832153),\n",
       " ('시련', 0.8408045768737793),\n",
       " ('행복', 0.8363746404647827),\n",
       " ('행복감', 0.827640950679779),\n",
       " ('슬픔', 0.82740718126297),\n",
       " ('축복', 0.8193854689598083),\n",
       " ('깨달음', 0.8192520141601562),\n",
       " ('로움', 0.8138577938079834),\n",
       " ('괴로움', 0.8124117851257324)]"
      ]
     },
     "execution_count": 11,
     "metadata": {},
     "output_type": "execute_result"
    }
   ],
   "source": [
    "model.most_similar(\"기쁨\")"
   ]
  },
  {
   "cell_type": "code",
   "execution_count": 12,
   "metadata": {},
   "outputs": [
    {
     "name": "stderr",
     "output_type": "stream",
     "text": [
      "<ipython-input-12-5f1b32037d59>:1: DeprecationWarning: Call to deprecated `most_similar` (Method will be removed in 4.0.0, use self.wv.most_similar() instead).\n",
      "  model.most_similar(\"영화\")\n"
     ]
    },
    {
     "data": {
      "text/plain": [
       "[('신영화', 0.8638830780982971),\n",
       " ('고어영화', 0.8617923259735107),\n",
       " ('호러영화', 0.8606709241867065),\n",
       " ('수영화', 0.8589956760406494),\n",
       " ('컬트영화', 0.8553696870803833),\n",
       " ('멜로영화', 0.8542771339416504),\n",
       " ('모험영화', 0.8530756831169128),\n",
       " ('단편영화', 0.8528338670730591),\n",
       " ('보다영화', 0.8507181406021118),\n",
       " ('괴물영화', 0.850500226020813)]"
      ]
     },
     "execution_count": 12,
     "metadata": {},
     "output_type": "execute_result"
    }
   ],
   "source": [
    "model.most_similar(\"영화\")"
   ]
  },
  {
   "cell_type": "code",
   "execution_count": null,
   "metadata": {},
   "outputs": [],
   "source": []
  }
 ],
 "metadata": {
  "kernelspec": {
   "display_name": "Python 3",
   "language": "python",
   "name": "python3"
  },
  "language_info": {
   "codemirror_mode": {
    "name": "ipython",
    "version": 3
   },
   "file_extension": ".py",
   "mimetype": "text/x-python",
   "name": "python",
   "nbconvert_exporter": "python",
   "pygments_lexer": "ipython3",
   "version": "3.7.7"
  }
 },
 "nbformat": 4,
 "nbformat_minor": 4
}
