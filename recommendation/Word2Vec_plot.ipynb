{
 "cells": [
  {
   "cell_type": "code",
   "execution_count": 1,
   "metadata": {},
   "outputs": [],
   "source": [
    "import numpy as np\n",
    "import pandas as pd\n",
    "from gensim.models import Word2Vec"
   ]
  },
  {
   "cell_type": "code",
   "execution_count": 2,
   "metadata": {},
   "outputs": [],
   "source": [
    "data = pd.read_csv('./data/preprocess_plot_Okt.csv')"
   ]
  },
  {
   "cell_type": "code",
   "execution_count": 4,
   "metadata": {},
   "outputs": [],
   "source": [
    "contexts = list(data['plot'])\n",
    "\n",
    "sentences = []\n",
    "for context in contexts :\n",
    "    sentences.append(str(context).split())\n",
    "#데이터 변환"
   ]
  },
  {
   "cell_type": "code",
   "execution_count": 6,
   "metadata": {},
   "outputs": [],
   "source": [
    "model = Word2Vec(sentences, size=100, workers=4, sg=1)\n",
    "model.save('./data/Word2Vec_embedding.model')\n",
    "#Word2Vec으로 임베딩"
   ]
  },
  {
   "cell_type": "code",
   "execution_count": 7,
   "metadata": {},
   "outputs": [
    {
     "name": "stdout",
     "output_type": "stream",
     "text": [
      "[('봄', 0.8249720335006714), ('가을', 0.8152165412902832), ('여름', 0.8137919902801514), ('계절', 0.810331404209137), ('봄날', 0.7863850593566895), ('여름날', 0.7557584047317505), ('장터', 0.751293957233429), ('새해', 0.7383345365524292), ('햇살', 0.7291375994682312), ('방학', 0.7204136848449707)]\n"
     ]
    }
   ],
   "source": [
    "print(model.wv.most_similar(\"겨울\"))"
   ]
  },
  {
   "cell_type": "code",
   "execution_count": 8,
   "metadata": {},
   "outputs": [
    {
     "name": "stdout",
     "output_type": "stream",
     "text": [
      "[('탈옥', 0.7315957546234131), ('빠져나가다', 0.695839524269104), ('가까스로', 0.6915467977523804), ('귀환', 0.6738705635070801), ('빠져나오다', 0.6656637191772461), ('구사일생', 0.6508027911186218), ('탈주', 0.644837498664856), ('퇴마', 0.6364614963531494), ('천신만고', 0.6347926259040833), ('간신히', 0.6344586610794067)]\n"
     ]
    }
   ],
   "source": [
    "print(model.wv.most_similar(\"탈출\"))"
   ]
  },
  {
   "cell_type": "code",
   "execution_count": 9,
   "metadata": {},
   "outputs": [
    {
     "name": "stdout",
     "output_type": "stream",
     "text": [
      "[('작곡가', 0.7089651823043823), ('수학자', 0.707553505897522), ('소유자', 0.7022979855537415), ('피아니스트', 0.6997485160827637), ('안무가', 0.6972237825393677), ('창시자', 0.6884473562240601), ('재능', 0.6842715740203857), ('레이서', 0.6841373443603516), ('남다르다', 0.6829860210418701), ('기질', 0.6819330453872681)]\n"
     ]
    }
   ],
   "source": [
    "print(model.wv.most_similar(\"천재\"))"
   ]
  }
 ],
 "metadata": {
  "kernelspec": {
   "display_name": "Python 3",
   "language": "python",
   "name": "python3"
  },
  "language_info": {
   "codemirror_mode": {
    "name": "ipython",
    "version": 3
   },
   "file_extension": ".py",
   "mimetype": "text/x-python",
   "name": "python",
   "nbconvert_exporter": "python",
   "pygments_lexer": "ipython3",
   "version": "3.7.7"
  }
 },
 "nbformat": 4,
 "nbformat_minor": 4
}
